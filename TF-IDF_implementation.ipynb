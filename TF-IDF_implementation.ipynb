{
 "cells": [
  {
   "cell_type": "code",
   "execution_count": 11,
   "metadata": {},
   "outputs": [
    {
     "name": "stdout",
     "output_type": "stream",
     "text": [
      "['this', 'is', 'cat', 'sat', 'on', 'my', 'face']\n",
      "['this', 'is', 'dog', 'sat', 'on', 'my', 'bed']\n"
     ]
    }
   ],
   "source": [
    "documentA = 'this is cat sat on my face'\n",
    "documentB = 'this is dog sat on my bed'\n",
    "\n",
    "Bow_A = documentA.split(' ')\n",
    "Bow_B = documentB.split(' ')\n",
    "\n",
    "print(Bow_A)\n",
    "print(Bow_B)"
   ]
  },
  {
   "cell_type": "code",
   "execution_count": 12,
   "metadata": {},
   "outputs": [
    {
     "name": "stdout",
     "output_type": "stream",
     "text": [
      "{'this', 'face', 'bed', 'cat', 'sat', 'dog', 'is', 'on', 'my'}\n"
     ]
    }
   ],
   "source": [
    "unique_words = set(Bow_A).union(set(Bow_B))\n",
    "print(unique_words)"
   ]
  },
  {
   "cell_type": "code",
   "execution_count": 30,
   "metadata": {},
   "outputs": [
    {
     "name": "stdout",
     "output_type": "stream",
     "text": [
      "{'this': 1, 'face': 1, 'bed': 0, 'cat': 1, 'sat': 1, 'dog': 0, 'is': 1, 'on': 1, 'my': 1}\n",
      "{'this': 1, 'face': 0, 'bed': 1, 'cat': 0, 'sat': 1, 'dog': 1, 'is': 1, 'on': 1, 'my': 1}\n"
     ]
    }
   ],
   "source": [
    "count_words_A = dict.fromkeys(unique_words, 0)\n",
    "count_words_B = dict.fromkeys(unique_words, 0)\n",
    "\n",
    "for word in Bow_A:\n",
    "    count_words_A[word] += 1\n",
    "for word in Bow_B:\n",
    "    count_words_B[word] += 1\n",
    "    \n",
    "print(count_words_A)\n",
    "print(count_words_B)"
   ]
  },
  {
   "cell_type": "code",
   "execution_count": 10,
   "metadata": {},
   "outputs": [
    {
     "name": "stdout",
     "output_type": "stream",
     "text": [
      "   this  face  bed  cat  sat  a  is  on  dog  my\n",
      "0     1     1    0    1    1  1   1   1    0   1\n",
      "1     1     0    1    0    1  1   1   1    1   1\n"
     ]
    }
   ],
   "source": [
    "import pandas as pd\n",
    "\n",
    "df = pd.DataFrame([count_words_A, count_words_B])\n",
    "print(df)"
   ]
  },
  {
   "cell_type": "markdown",
   "metadata": {},
   "source": [
    "                               now let's try to implemente the TF_IDF"
   ]
  },
  {
   "cell_type": "code",
   "execution_count": 32,
   "metadata": {},
   "outputs": [
    {
     "name": "stdout",
     "output_type": "stream",
     "text": [
      "{'this': 0.14285714285714285, 'face': 0.14285714285714285, 'bed': 0.0, 'cat': 0.14285714285714285, 'sat': 0.14285714285714285, 'dog': 0.0, 'is': 0.14285714285714285, 'on': 0.14285714285714285, 'my': 0.14285714285714285}\n"
     ]
    }
   ],
   "source": [
    "def computeTF(word_dict, Bow):\n",
    "    \n",
    "    TF_dict = {}\n",
    "    Bow_counter = len(Bow)\n",
    "    \n",
    "    for word, word_count in zip(word_dict.keys(), word_dict.values()):\n",
    "        TF_dict[word] = word_count / float(Bow_counter)\n",
    "        \n",
    "    return TF_dict\n",
    "\n",
    "TF_A = computeTF(count_words_A, Bow_A)\n",
    "TF_B = computeTF(count_words_B, Bow_B)"
   ]
  },
  {
   "cell_type": "code",
   "execution_count": 36,
   "metadata": {},
   "outputs": [],
   "source": [
    "def computeIDF(list_dict):\n",
    "    import math\n",
    "    \n",
    "    IDF_dict = {}\n",
    "    total_length = len(list_dict)\n",
    "    \n",
    "    IDF_dict = dict.fromkeys(list_dict[0].keys(), 0)\n",
    "    for dic in list_dict:\n",
    "        for word, word_count in zip(dic.keys(), dic.values()):\n",
    "            if word_count > 0:\n",
    "                IDF_dict[word] += 1\n",
    "                \n",
    "    for word, value in zip(IDF_dict.keys(), IDF_dict.values()):\n",
    "        IDF_dict[word] = math.log(total_length / value)\n",
    "                \n",
    "    return IDF_dict\n",
    "    "
   ]
  },
  {
   "cell_type": "code",
   "execution_count": 37,
   "metadata": {},
   "outputs": [],
   "source": [
    "idfs = computeIDF([count_words_A, count_words_B])"
   ]
  },
  {
   "cell_type": "code",
   "execution_count": 38,
   "metadata": {},
   "outputs": [],
   "source": [
    "def computeTFIDF(tf, idf):\n",
    "    \n",
    "    tfidf = {}\n",
    "    \n",
    "    for word, word_count in zip(tf.keys(), tf.values()):\n",
    "        tfidf[word] = word_count * idf[word]\n",
    "    \n",
    "    return tfidf"
   ]
  },
  {
   "cell_type": "code",
   "execution_count": 39,
   "metadata": {},
   "outputs": [
    {
     "name": "stdout",
     "output_type": "stream",
     "text": [
      "   this      face       bed       cat  sat       dog   is   on   my\n",
      "0   0.0  0.099021  0.000000  0.099021  0.0  0.000000  0.0  0.0  0.0\n",
      "1   0.0  0.000000  0.099021  0.000000  0.0  0.099021  0.0  0.0  0.0\n"
     ]
    }
   ],
   "source": [
    "TFIDF_A = computeTFIDF(TF_A, idfs)\n",
    "TFIDF_B = computeTFIDF(TF_B, idfs)\n",
    "\n",
    "df = pd.DataFrame([TFIDF_A, TFIDF_B])\n",
    "print(df)"
   ]
  },
  {
   "cell_type": "code",
   "execution_count": null,
   "metadata": {},
   "outputs": [],
   "source": []
  }
 ],
 "metadata": {
  "kernelspec": {
   "display_name": "Python 3",
   "language": "python",
   "name": "python3"
  },
  "language_info": {
   "codemirror_mode": {
    "name": "ipython",
    "version": 3
   },
   "file_extension": ".py",
   "mimetype": "text/x-python",
   "name": "python",
   "nbconvert_exporter": "python",
   "pygments_lexer": "ipython3",
   "version": "3.8.10"
  }
 },
 "nbformat": 4,
 "nbformat_minor": 4
}
